{
 "cells": [
  {
   "cell_type": "code",
   "execution_count": 2,
   "metadata": {},
   "outputs": [],
   "source": [
    "import matplotlib.pyplot as plt\n",
    "import pandas as pd"
   ]
  },
  {
   "cell_type": "markdown",
   "metadata": {},
   "source": [
    " # Generate some data"
   ]
  },
  {
   "cell_type": "code",
   "execution_count": 10,
   "metadata": {},
   "outputs": [
    {
     "name": "stdout",
     "output_type": "stream",
     "text": [
      "True Positives: 11\n",
      "True Negatives: 13\n",
      "False Positives: 0\n",
      "False Negatives: 1\n"
     ]
    }
   ],
   "source": [
    "from sklearn.datasets import make_blobs\n",
    "\n",
    "X, y = make_blobs(centers=2, random_state=1, cluster_std=3)\n",
    "\n",
    "# plt.scatter(X[:, 0], X[:, 1], c=y)\n",
    "\n",
    "from sklearn.model_selection import train_test_split\n",
    "X_train, X_test, y_train, y_test = train_test_split(X, \n",
    "                                                    y, \n",
    "                                                    random_state=1, \n",
    "                                                    stratify=y)\n",
    "\n",
    "# Create a Logistic Regression Model\n",
    "from sklearn.linear_model import LogisticRegression\n",
    "classifier = LogisticRegression(solver='lbfgs', random_state=1)\n",
    "\n",
    "# Fit (train) or model using the training data\n",
    "classifier.fit(X_train, y_train)\n",
    "\n",
    "predictions = classifier.predict(X_test)\n",
    "df = pd.DataFrame({\"Prediction\": predictions, \"Actual\": y_test})\n",
    "\n",
    "df\n",
    "# 0 positive, 1 negative.\n",
    "# Calculate elements of the confusion matrix\n",
    "true_positive = df.loc[(df['Actual'] == 0) & (df['Prediction'] == 0)].shape[0]\n",
    "true_negative = df.loc[(df['Actual'] == 1) & (df['Prediction'] == 1)].shape[0]\n",
    "false_positive = df.loc[(df['Actual'] == 1) & (df['Prediction'] == 0)].shape[0]\n",
    "false_negative = df.loc[(df['Actual'] == 0) & (df['Prediction'] == 1)].shape[0]\n",
    "print(f\"True Positives: {true_positive}\")\n",
    "print(f\"True Negatives: {true_negative}\")\n",
    "print(f\"False Positives: {false_positive}\")\n",
    "print(f\"False Negatives: {false_negative}\")"
   ]
  },
  {
   "cell_type": "markdown",
   "metadata": {},
   "source": [
    " # Confusion Matrix"
   ]
  },
  {
   "cell_type": "code",
   "execution_count": 8,
   "metadata": {},
   "outputs": [
    {
     "data": {
      "text/plain": [
       "array([[11,  1],\n",
       "       [ 0, 13]])"
      ]
     },
     "execution_count": 8,
     "metadata": {},
     "output_type": "execute_result"
    }
   ],
   "source": [
    "from sklearn.metrics import confusion_matrix\n",
    "confusion_matrix(y_test, predictions)\n",
    "# TP FN\n",
    "# FP TN"
   ]
  },
  {
   "cell_type": "markdown",
   "metadata": {},
   "source": [
    " # Classification Report"
   ]
  },
  {
   "cell_type": "code",
   "execution_count": 6,
   "metadata": {},
   "outputs": [
    {
     "name": "stdout",
     "output_type": "stream",
     "text": [
      "              precision    recall  f1-score   support\n",
      "\n",
      "Class Purple       1.00      0.92      0.96        12\n",
      "Class Yellow       0.93      1.00      0.96        13\n",
      "\n",
      "    accuracy                           0.96        25\n",
      "   macro avg       0.96      0.96      0.96        25\n",
      "weighted avg       0.96      0.96      0.96        25\n",
      "\n"
     ]
    }
   ],
   "source": [
    "from sklearn.metrics import classification_report\n",
    "target_names = [\"Class Purple\", \"Class Yellow\"]\n",
    "print(classification_report(y_test, predictions, target_names=target_names))\n",
    "\n"
   ]
  },
  {
   "cell_type": "code",
   "execution_count": 11,
   "metadata": {},
   "outputs": [
    {
     "name": "stdout",
     "output_type": "stream",
     "text": [
      "precision_purple: 1.0\n",
      "recall_purple: 0.9166666666666666\n",
      "f1_score_purple: 0.9565217391304348\n",
      "support_purple: 12\n"
     ]
    }
   ],
   "source": [
    "# For Class Purple (0)\n",
    "precision_0 = true_positive / (true_positive + false_positive) \n",
    "print('precision_purple:', precision_0)\n",
    "\n",
    "recall_0 = true_positive / (true_positive + false_negative) \n",
    "print('recall_purple:', recall_0)\n",
    "\n",
    "f1_score_0 = 2 * precision_0 * recall_0 / (precision_0 + recall_0) \n",
    "print(\"f1_score_purple:\", f1_score_0)\n",
    "\n",
    "support_0 = true_positive + false_negative\n",
    "print(\"support_purple:\", support_0)"
   ]
  },
  {
   "cell_type": "code",
   "execution_count": 12,
   "metadata": {},
   "outputs": [
    {
     "name": "stdout",
     "output_type": "stream",
     "text": [
      "precision_yellow: 0.9285714285714286\n",
      "recall_yellow: 1.0\n",
      "f1_score_yellow: 0.962962962962963\n",
      "support_yellow: 13\n"
     ]
    }
   ],
   "source": [
    "# For Class Yellow (1)\n",
    "precision_1 = true_negative / (true_negative + false_negative)\n",
    "print('precision_yellow:', precision_1)\n",
    "recall_1 = true_negative / (true_negative + false_positive) \n",
    "print('recall_yellow:', recall_1)\n",
    "f1_score_1 = 2 * precision_1 * recall_1 / (precision_1 + recall_1) \n",
    "print(\"f1_score_yellow:\", f1_score_1)\n",
    "support_1 = true_negative + false_positive\n",
    "print(\"support_yellow:\", support_1)"
   ]
  },
  {
   "cell_type": "code",
   "execution_count": null,
   "metadata": {},
   "outputs": [],
   "source": [
    "# Calculate macro and weighted averages\n",
    "total_support = support_0 + support_1\n",
    "\n",
    "precision_macro_avg = (precision_0 + precision_1) / 2\n",
    "recall_macro_avg = (recall_0 + recall_1) / 2\n",
    "f1_macro_avg = (f1_score_0 + f1_score_1) / 2\n",
    "\n",
    "precision_weighted_avg = (precision_0 * support_0 + precision_1 * support_1) / total_support\n",
    "recall_weighted_avg = (recall_0 * support_0 + recall_1 * support_1) / total_support\n",
    "f1_weighted_avg = (f1_score_0 * support_0 + f1_score_1 * support_1) / total_support"
   ]
  }
 ],
 "metadata": {
  "file_extension": ".py",
  "kernelspec": {
   "display_name": "Python 3 (ipykernel)",
   "language": "python",
   "name": "python3"
  },
  "language_info": {
   "codemirror_mode": {
    "name": "ipython",
    "version": 3
   },
   "file_extension": ".py",
   "mimetype": "text/x-python",
   "name": "python",
   "nbconvert_exporter": "python",
   "pygments_lexer": "ipython3",
   "version": "3.10.10"
  },
  "mimetype": "text/x-python",
  "name": "python",
  "npconvert_exporter": "python",
  "pygments_lexer": "ipython3",
  "version": 3
 },
 "nbformat": 4,
 "nbformat_minor": 4
}
