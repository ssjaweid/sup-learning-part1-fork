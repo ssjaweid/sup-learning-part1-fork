{
 "cells": [
  {
   "cell_type": "code",
   "execution_count": null,
   "id": "87667c32-d5d5-4642-a0c1-246ef8b9f24c",
   "metadata": {},
   "outputs": [],
   "source": [
    "# unsup\n",
    "# obs -> model, raw data, records, unlabeled\n",
    "# sup\n",
    "# obs -> model, obs comes in pairs. data, label. what are we learning?\n",
    "\n",
    "y = f(X)\n",
    "\n",
    "X: [[1,1.1] ,2,3,4,5]\n",
    "y: [2,4,6,8,10]\n",
    "\n",
    "y = b + a * X #knobs in the structure. fit\n",
    "\n",
    "\n"
   ]
  }
 ],
 "metadata": {
  "kernelspec": {
   "display_name": "Python 3 (ipykernel)",
   "language": "python",
   "name": "python3"
  },
  "language_info": {
   "codemirror_mode": {
    "name": "ipython",
    "version": 3
   },
   "file_extension": ".py",
   "mimetype": "text/x-python",
   "name": "python",
   "nbconvert_exporter": "python",
   "pygments_lexer": "ipython3",
   "version": "3.10.10"
  }
 },
 "nbformat": 4,
 "nbformat_minor": 5
}
